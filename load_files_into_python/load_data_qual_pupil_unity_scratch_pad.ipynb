{
 "cells": [
  {
   "cell_type": "markdown",
   "metadata": {},
   "source": [
    "# Load Qualisys Data"
   ]
  },
  {
   "cell_type": "code",
   "execution_count": null,
   "metadata": {},
   "outputs": [],
   "source": [
    "# use conda environment \"argp_analysis\"\n",
    "import pandas as pd"
   ]
  },
  {
   "cell_type": "code",
   "execution_count": null,
   "metadata": {},
   "outputs": [],
   "source": [
    "# specify path & file name\n",
    "qualisys_data_path = r'D:\\data_storage\\argp_data\\2022_08_29_Pilot_Data0002\\qualisys\\2022-08-29_Pilot_Data0002.tsv'"
   ]
  },
  {
   "cell_type": "code",
   "execution_count": null,
   "metadata": {},
   "outputs": [],
   "source": [
    "# load in `.tsv` file\n",
    "qualisys_df = pd.read_csv(filepath_or_buffer = qualisys_data_path, delimiter='\\t', header=11)"
   ]
  },
  {
   "cell_type": "code",
   "execution_count": null,
   "metadata": {},
   "outputs": [],
   "source": [
    "# currently this isn't working\n",
    "# convert dataframe to dict\n",
    "qualisys_dict = qualisys_df.to_dict()"
   ]
  },
  {
   "cell_type": "code",
   "execution_count": null,
   "metadata": {},
   "outputs": [],
   "source": [
    "for key, value in qualisys_dict.items():\n",
    "    print(key)\n",
    "    qualisys_data = value"
   ]
  },
  {
   "cell_type": "markdown",
   "metadata": {},
   "source": [
    "# Load Pupil Data"
   ]
  },
  {
   "cell_type": "code",
   "execution_count": null,
   "metadata": {},
   "outputs": [],
   "source": [
    "# specify pupil data path/file\n",
    "pupil_data_path = r'D:\\data_storage\\argp_data\\2022_08_29_Pilot_Data0002\\pupil\\2022_08_29\\002\\exports\\000\\pupil_positions.csv'"
   ]
  },
  {
   "cell_type": "code",
   "execution_count": null,
   "metadata": {},
   "outputs": [],
   "source": [
    "# load in `.csv` using pandas\n",
    "pupil_df = pd.read_csv(filepath_or_buffer = pupil_data_path, delimiter=',', header=0)"
   ]
  },
  {
   "cell_type": "code",
   "execution_count": null,
   "metadata": {},
   "outputs": [],
   "source": [
    "# take only the 3D data from the data frame \n",
    "pupil_df_3D = pupil_df[pupil_df[\"method\"] == 'pye3d 0.3.0 post-hoc']"
   ]
  },
  {
   "cell_type": "code",
   "execution_count": null,
   "metadata": {},
   "outputs": [],
   "source": [
    "# currently this isn't working\n",
    "# convert dataframe to dict\n",
    "pupil_dict = pupil_df_3D.to_dict()"
   ]
  }
 ],
 "metadata": {
  "kernelspec": {
   "display_name": "Python 3.9.13 ('argp_analysis')",
   "language": "python",
   "name": "python3"
  },
  "language_info": {
   "codemirror_mode": {
    "name": "ipython",
    "version": 3
   },
   "file_extension": ".py",
   "mimetype": "text/x-python",
   "name": "python",
   "nbconvert_exporter": "python",
   "pygments_lexer": "ipython3",
   "version": "3.9.13"
  },
  "orig_nbformat": 4,
  "vscode": {
   "interpreter": {
    "hash": "df027c94ec2e23afe7a3cd48b77b0cb0d164de9750ac160501d044ea5c357fd4"
   }
  }
 },
 "nbformat": 4,
 "nbformat_minor": 2
}
