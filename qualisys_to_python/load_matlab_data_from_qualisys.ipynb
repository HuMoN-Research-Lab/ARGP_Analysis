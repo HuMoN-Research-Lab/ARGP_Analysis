{
 "cells": [
  {
   "cell_type": "code",
   "execution_count": 2,
   "metadata": {},
   "outputs": [],
   "source": [
    "import numpy as np\n",
    "import pandas as pd\n",
    "import matplotlib.pyplot as plt \n",
    "import scipy.io as sio "
   ]
  },
  {
   "cell_type": "markdown",
   "metadata": {},
   "source": [
    "Load in `.mat` file"
   ]
  },
  {
   "cell_type": "code",
   "execution_count": 3,
   "metadata": {},
   "outputs": [],
   "source": [
    "qualysis_file_name = '2022-08-29_Pilot_Data0002.mat'\n",
    "qualisys_matlab_dict = sio.loadmat(qualysis_file_name)"
   ]
  },
  {
   "cell_type": "code",
   "execution_count": 6,
   "metadata": {},
   "outputs": [
    {
     "name": "stdout",
     "output_type": "stream",
     "text": [
      "__header__\n",
      "__version__\n",
      "__globals__\n",
      "qtm_2022_08_29_Pilot_Data0002\n"
     ]
    }
   ],
   "source": [
    "# for loop over the dictionary\n",
    "\n",
    "for key, value in qualisys_matlab_dict.items():\n",
    "    print(key)\n",
    "    qualisys_data = value"
   ]
  },
  {
   "cell_type": "code",
   "execution_count": null,
   "metadata": {},
   "outputs": [],
   "source": [
    "type(qualisys_data_frame_marker_dimension)"
   ]
  },
  {
   "cell_type": "code",
   "execution_count": null,
   "metadata": {},
   "outputs": [],
   "source": [
    "names = ['frame','marker','dimension']\n",
    "index = pd.MultiIndex.from_product([range(s)for s in qualisys_data_frame_marker_dimension.shape], names=names)"
   ]
  },
  {
   "cell_type": "code",
   "execution_count": null,
   "metadata": {},
   "outputs": [],
   "source": [
    "\n",
    "df = pd.DataFrame({'qualisys_data_fr_mar_dim': qualisys_data_frame_marker_dimension.flatten()}, index=index)['qualisys_data_fr_mar_dim']\n",
    "print(df)"
   ]
  }
 ],
 "metadata": {
  "kernelspec": {
   "display_name": "Python 3.9.13 ('argp_analysis')",
   "language": "python",
   "name": "python3"
  },
  "language_info": {
   "codemirror_mode": {
    "name": "ipython",
    "version": 3
   },
   "file_extension": ".py",
   "mimetype": "text/x-python",
   "name": "python",
   "nbconvert_exporter": "python",
   "pygments_lexer": "ipython3",
   "version": "3.9.13"
  },
  "orig_nbformat": 4,
  "vscode": {
   "interpreter": {
    "hash": "df027c94ec2e23afe7a3cd48b77b0cb0d164de9750ac160501d044ea5c357fd4"
   }
  }
 },
 "nbformat": 4,
 "nbformat_minor": 2
}
