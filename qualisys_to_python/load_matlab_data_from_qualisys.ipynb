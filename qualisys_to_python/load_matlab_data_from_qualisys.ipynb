{
 "cells": [
  {
   "cell_type": "code",
   "execution_count": 4,
   "metadata": {},
   "outputs": [],
   "source": [
    "import numpy as np\n",
    "import pandas as pd\n",
    "import matplotlib.pyplot as plt \n",
    "import scipy.io as sio "
   ]
  },
  {
   "cell_type": "code",
   "execution_count": 8,
   "metadata": {},
   "outputs": [],
   "source": [
    "\n",
    "qualysis_data_path = 'Data/qualisys_markers_3d.mat'\n",
    "qualisys_mat_file = sio.loadmat(qualysis_data_path)\n",
    "qualisys_data = qualisys_mat_file['mat_data_reshaped']"
   ]
  },
  {
   "cell_type": "code",
   "execution_count": 13,
   "metadata": {},
   "outputs": [],
   "source": [
    "type(qualisys_data)\n",
    "trajectoryarray = qualisys_data"
   ]
  },
  {
   "cell_type": "code",
   "execution_count": 14,
   "metadata": {},
   "outputs": [
    {
     "name": "stdout",
     "output_type": "stream",
     "text": [
      "frame   marker  position\n",
      "0       0       0           1490.822770\n",
      "                1           1757.544848\n",
      "                2           1685.933611\n",
      "        1       0           1500.507020\n",
      "                1           1864.862478\n",
      "                               ...     \n",
      "224075  52      1                   NaN\n",
      "                2                   NaN\n",
      "        53      0                   NaN\n",
      "                1                   NaN\n",
      "                2                   NaN\n",
      "Name: trajectoryarray, Length: 36300312, dtype: float64\n"
     ]
    }
   ],
   "source": [
    "names = ['frame','marker','position']\n",
    "index = pd.MultiIndex.from_product([range(s)for s in trajectoryarray.shape], names=names)\n",
    "df = pd.DataFrame({'trajectoryarray': trajectoryarray.flatten()}, index=index)['trajectoryarray']\n",
    "print(df)"
   ]
  }
 ],
 "metadata": {
  "kernelspec": {
   "display_name": "Python 3.9.12 ('ARGP-pipeline')",
   "language": "python",
   "name": "python3"
  },
  "language_info": {
   "codemirror_mode": {
    "name": "ipython",
    "version": 3
   },
   "file_extension": ".py",
   "mimetype": "text/x-python",
   "name": "python",
   "nbconvert_exporter": "python",
   "pygments_lexer": "ipython3",
   "version": "3.9.12"
  },
  "orig_nbformat": 4,
  "vscode": {
   "interpreter": {
    "hash": "f6c7f810cea699d64ffb9aceacf758ef99c5e8005a96ded5c94f9eeccb173926"
   }
  }
 },
 "nbformat": 4,
 "nbformat_minor": 2
}
