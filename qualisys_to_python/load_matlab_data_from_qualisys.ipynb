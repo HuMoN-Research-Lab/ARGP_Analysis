{
 "cells": [
  {
   "cell_type": "code",
   "execution_count": 1,
   "metadata": {},
   "outputs": [],
   "source": [
    "import numpy as np\n",
    "import pandas as pd\n",
    "import matplotlib.pyplot as plt \n",
    "import scipy.io as sio "
   ]
  },
  {
   "cell_type": "markdown",
   "metadata": {},
   "source": [
    "Turn `qualisys_data_reshaped.mat` into a pandas `dataframe`"
   ]
  },
  {
   "cell_type": "code",
   "execution_count": 4,
   "metadata": {},
   "outputs": [],
   "source": [
    "qualysis_file_name = 'qualisys_data_reshaped.mat'\n",
    "qualisys_matlab_file = sio.loadmat(qualysis_file_name)\n",
    "qualisys_data_frame_marker_dimension = qualisys_matlab_file['data_reshaped']"
   ]
  },
  {
   "cell_type": "code",
   "execution_count": 6,
   "metadata": {},
   "outputs": [
    {
     "data": {
      "text/plain": [
       "numpy.ndarray"
      ]
     },
     "execution_count": 6,
     "metadata": {},
     "output_type": "execute_result"
    }
   ],
   "source": [
    "type(qualisys_data_frame_marker_dimension)"
   ]
  },
  {
   "cell_type": "code",
   "execution_count": 7,
   "metadata": {},
   "outputs": [],
   "source": [
    "names = ['frame','marker','dimension']\n",
    "index = pd.MultiIndex.from_product([range(s)for s in qualisys_data_frame_marker_dimension.shape], names=names)"
   ]
  },
  {
   "cell_type": "code",
   "execution_count": 9,
   "metadata": {},
   "outputs": [
    {
     "name": "stdout",
     "output_type": "stream",
     "text": [
      "frame  marker  dimension\n",
      "0      0       0             763.530844\n",
      "               1            1072.335845\n",
      "               2            1666.845372\n",
      "       1       0             782.247205\n",
      "               1            1173.411577\n",
      "                               ...     \n",
      "33435  54      1            1556.168879\n",
      "               2              56.330641\n",
      "       55      0             761.377902\n",
      "               1            1532.778515\n",
      "               2              56.751976\n",
      "Name: qualisys_data_fr_mar_dim, Length: 5617248, dtype: float64\n"
     ]
    }
   ],
   "source": [
    "\n",
    "df = pd.DataFrame({'qualisys_data_fr_mar_dim': qualisys_data_frame_marker_dimension.flatten()}, index=index)['qualisys_data_fr_mar_dim']\n",
    "print(df)"
   ]
  }
 ],
 "metadata": {
  "kernelspec": {
   "display_name": "Python 3.9.13 ('argp_analysis')",
   "language": "python",
   "name": "python3"
  },
  "language_info": {
   "codemirror_mode": {
    "name": "ipython",
    "version": 3
   },
   "file_extension": ".py",
   "mimetype": "text/x-python",
   "name": "python",
   "nbconvert_exporter": "python",
   "pygments_lexer": "ipython3",
   "version": "3.9.13"
  },
  "orig_nbformat": 4,
  "vscode": {
   "interpreter": {
    "hash": "df027c94ec2e23afe7a3cd48b77b0cb0d164de9750ac160501d044ea5c357fd4"
   }
  }
 },
 "nbformat": 4,
 "nbformat_minor": 2
}
