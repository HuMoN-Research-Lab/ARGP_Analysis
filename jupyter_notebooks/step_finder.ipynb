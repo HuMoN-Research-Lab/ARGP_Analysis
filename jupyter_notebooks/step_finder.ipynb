{
 "cells": [
  {
   "cell_type": "code",
   "execution_count": null,
   "metadata": {},
   "outputs": [],
   "source": [
    "import numpy as np\n",
    "import matplotlib.pyplot as plt\n",
    "import pickle \n",
    "import pandas as pd\n",
    "from pathlib import Path\n",
    "\n",
    "# butterworth filter the data to clean the spikes\n",
    "from scipy.signal import butter, filtfilt\n",
    "\n",
    "try:\n",
    "    import ipywidgets\n",
    "except ImportError:\n",
    "    !pip install ipywidgets\n",
    "    import ipywidgets"
   ]
  },
  {
   "cell_type": "code",
   "execution_count": null,
   "metadata": {},
   "outputs": [],
   "source": [
    "# Experiment parameters and thresholds\n",
    "frame_rate = 300 # Hz\n",
    "velocity_threshold = -2000 # mm/s\n",
    "acceleration_threshold = 0.1 # mm/s^2\n",
    "jerk_threshold = 0 # mm/s^3"
   ]
  },
  {
   "attachments": {},
   "cell_type": "markdown",
   "metadata": {},
   "source": [
    "### Threshold guidelines?\n",
    "- possibly use relative threshold based on body weight? \n",
    "- perhaps an absolute threshold of velocity zero crossing is good enough \n",
    "- visual inspection? Kinda tedious. "
   ]
  },
  {
   "cell_type": "code",
   "execution_count": null,
   "metadata": {},
   "outputs": [],
   "source": [
    "pickle_path = Path(r\"C:\\Users\\miken\\DATA\\ARGP\\SAMPLE_ARGP_DATA\\2022-08-29_Pilot_Data0002\\generic_skelly_dict.pkl\")"
   ]
  },
  {
   "cell_type": "code",
   "execution_count": null,
   "metadata": {},
   "outputs": [],
   "source": [
    "# open the saved file and load the dictionary using pickle\n",
    "with open(pickle_path, 'rb') as f:\n",
    "    generic_skelly_dict = pickle.load(f)\n"
   ]
  },
  {
   "cell_type": "code",
   "execution_count": null,
   "metadata": {},
   "outputs": [],
   "source": [
    "# Listing out the keys in the dictionary for reference \n",
    "key_anatomical_points = list(generic_skelly_dict.keys())\n",
    "print(key_anatomical_points)"
   ]
  },
  {
   "cell_type": "code",
   "execution_count": null,
   "metadata": {},
   "outputs": [],
   "source": [
    "# Extract the heel data from the dictionary\n",
    "left_heel_data = generic_skelly_dict['left_heel_xyz']\n",
    "right_heel_data = generic_skelly_dict['right_heel_xyz']\n",
    "\n",
    "# extract the x,y,z coordinates from the heel data\n",
    "left_heel_x = left_heel_data[:,0]\n",
    "left_heel_y = left_heel_data[:,1]\n",
    "left_heel_z = left_heel_data[:,2]\n",
    "\n",
    "right_heel_x = right_heel_data[:,0]\n",
    "right_heel_y = right_heel_data[:,1]\n",
    "right_heel_z = right_heel_data[:,2]"
   ]
  },
  {
   "cell_type": "code",
   "execution_count": null,
   "metadata": {},
   "outputs": [],
   "source": [
    "print(len(left_heel_data))"
   ]
  },
  {
   "cell_type": "code",
   "execution_count": null,
   "metadata": {},
   "outputs": [],
   "source": [
    "# Create a time vector\n",
    "def create_time_vector(left_heel_data, frame_rate): # Could have used any key in the dictionary here\n",
    "    time_vector = np.arange(0, len(left_heel_data)/frame_rate, 1/frame_rate)\n",
    "    return time_vector\n",
    "\n",
    "time_vector = create_time_vector(left_heel_data, frame_rate)\n",
    "\n",
    "print(len(time_vector))"
   ]
  },
  {
   "cell_type": "code",
   "execution_count": null,
   "metadata": {},
   "outputs": [],
   "source": [
    "plt.plot(left_heel_data)\n",
    "plt.show()"
   ]
  },
  {
   "cell_type": "code",
   "execution_count": null,
   "metadata": {},
   "outputs": [],
   "source": [
    "# filter the data to clean the spikes in derived data\n",
    "def butterworth_filter(data, cutoff, frame_rate, order=4, filter_type='low'):\n",
    "    nyq = 0.5 * frame_rate\n",
    "    normal_cutoff = cutoff / nyq\n",
    "    b, a = butter(order, normal_cutoff, btype=filter_type, analog=False)\n",
    "    \n",
    "    # Adjust the padlen based on the length of the data\n",
    "    padlen = min(order * 3, len(data) - 1)\n",
    "    \n",
    "    y = filtfilt(b, a, data, padlen=padlen)  \n",
    "    return y \n"
   ]
  },
  {
   "cell_type": "code",
   "execution_count": null,
   "metadata": {},
   "outputs": [],
   "source": [
    "# Filter parameters\n",
    "cutoff_frequency = 10 # Hz\n",
    "frame_rate = 300 # Hz\n",
    "filter_order = 4 # Filter order\n",
    "\n",
    "filtered_left_heel_z = butterworth_filter(left_heel_z, cutoff_frequency, frame_rate, order=filter_order)\n",
    "filtered_right_heel_z = butterworth_filter(right_heel_z, cutoff_frequency, frame_rate, order=filter_order)"
   ]
  },
  {
   "cell_type": "code",
   "execution_count": null,
   "metadata": {},
   "outputs": [],
   "source": [
    "# Calculate the velocity and acceleration from position data\n",
    "def calculate_velocity_acceleration_jerk(position_data, frame_rate):\n",
    "    velocity_data = np.diff(position_data) * frame_rate\n",
    "    acceleration_data = np.diff(velocity_data) * frame_rate\n",
    "    jerk_data = np.diff(acceleration_data) * frame_rate\n",
    "    return velocity_data, acceleration_data, jerk_data\n",
    "\n",
    "# Find heel strikes based on velocity and acceleration (1D)\n",
    "def find_heel_strikes_velocity_acceleration_jerk(heel_position_data, frame_rate, velocity_threshold, acceleration_threshold):\n",
    "    velocity_data, acceleration_data, jerk_data = calculate_velocity_acceleration_jerk(heel_position_data, frame_rate)\n",
    "\n",
    "    heel_strike_indices = []\n",
    "    window_size = 60  # Set the window size for local minimum and maximum checks\n",
    "\n",
    "    for i in range(window_size, len(velocity_data) - window_size):\n",
    "        # Check if the current index is a local minimum for velocity data within the window\n",
    "        is_local_min = np.argmin(velocity_data[i - window_size:i + window_size + 1]) == window_size\n",
    "\n",
    "        # Check if the current index is a local maximum for jerk data within the window\n",
    "        is_local_max = np.argmax(jerk_data[i - window_size:i + window_size + 1]) == window_size\n",
    "\n",
    "        # If both conditions are true, store the index as a heel strike\n",
    "        if velocity_data[i] < velocity_threshold and is_local_max:\n",
    "            heel_strike_indices.append(i)\n",
    "\n",
    "    # return heel_strike_indices\n",
    "    # heel_strike_indices = []\n",
    "    # for i in range(len(velocity_data)-1):  # Adjust the range to avoid index errors\n",
    "    #     if velocity_data[i] < velocity_threshold and acceleration_data[i] > acceleration_threshold:\n",
    "    #         heel_strike_indices.append(i+1)  # Add 1 to the index because diff causes you to lose one data point\n",
    "\n",
    "    return heel_strike_indices"
   ]
  },
  {
   "cell_type": "code",
   "execution_count": null,
   "metadata": {},
   "outputs": [],
   "source": [
    "# Call the function for both left and right heel position data\n",
    "left_heel_strikes_indices = find_heel_strikes_velocity_acceleration_jerk(filtered_left_heel_z, frame_rate, velocity_threshold, acceleration_threshold)\n",
    "right_heel_strikes_indices = find_heel_strikes_velocity_acceleration_jerk(filtered_right_heel_z, frame_rate, velocity_threshold, acceleration_threshold)"
   ]
  },
  {
   "cell_type": "code",
   "execution_count": null,
   "metadata": {},
   "outputs": [],
   "source": [
    "# Get the heel strike times using the time vector\n",
    "left_heel_strikes_times = time_vector[left_heel_strikes_indices]\n",
    "right_heel_strikes_times = time_vector[right_heel_strikes_indices]\n",
    "\n",
    "# Create a dictionary with left and right heel strikes\n",
    "heel_strikes_dict = {\n",
    "    'left': {\n",
    "        'indices': left_heel_strikes_indices,\n",
    "        'times': left_heel_strikes_times,\n",
    "        'positions': left_heel_data[left_heel_strikes_indices]\n",
    "    },\n",
    "    'right': {\n",
    "        'indices': right_heel_strikes_indices,\n",
    "        'times': right_heel_strikes_times,\n",
    "        'positions': right_heel_data[right_heel_strikes_indices]\n",
    "    }\n",
    "}\n",
    "\n"
   ]
  },
  {
   "cell_type": "code",
   "execution_count": null,
   "metadata": {},
   "outputs": [],
   "source": [
    "print(heel_strikes_dict['right']['times'])"
   ]
  },
  {
   "cell_type": "code",
   "execution_count": null,
   "metadata": {},
   "outputs": [],
   "source": [
    "print(len(heel_strikes_dict['right']['times']))"
   ]
  },
  {
   "cell_type": "code",
   "execution_count": null,
   "metadata": {},
   "outputs": [],
   "source": [
    "r_heel_strike = list(heel_strikes_dict['right'].keys())\n",
    "print(r_heel_strike)"
   ]
  },
  {
   "attachments": {},
   "cell_type": "markdown",
   "metadata": {},
   "source": [
    "### I want to check if the \"positions\" actually hold the correct values compared to the debug plot below"
   ]
  },
  {
   "cell_type": "code",
   "execution_count": null,
   "metadata": {},
   "outputs": [],
   "source": [
    "# debug plot to see if anything is actually showing \n",
    "\n",
    "left_heel_z_velocity, left_heel_z_acceleration, left_heel_z_jerk = calculate_velocity_acceleration_jerk(filtered_left_heel_z, frame_rate)\n",
    "\n",
    "\n",
    "# Plot the left heel's z-axis velocity and acceleration data\n",
    "plt.figure(figsize=(12, 6))\n",
    "\n",
    "time_vector_zv = time_vector[:-1] # Adjust the time vector to match the velocity and acceleration data\n",
    "time_vector_za = time_vector[:-2] \n",
    "time_vector_zj = time_vector[:-3]\n",
    "\n",
    "plt.subplot(3, 1, 1)\n",
    "plt.plot(time_vector_zv, left_heel_z_velocity, label='Left heel Z velocity', color='blue')\n",
    "#plt.plot(time_vector_zv, right_heel_data_z_velocity, label='Right heel Z velocity', color='red')\n",
    "plt.xlabel('Time (s)')\n",
    "plt.ylabel('Velocity')\n",
    "plt.legend()\n",
    "plt.xlim(40,45)\n",
    "\n",
    "plt.subplot(3, 1, 2)\n",
    "plt.plot(time_vector_za, left_heel_z_acceleration, label='Left heel Z acceleration')\n",
    "plt.xlabel('Time (s)')\n",
    "plt.ylabel('Acceleration')\n",
    "plt.legend()\n",
    "plt.xlim(40,45)\n",
    "\n",
    "plt.subplot(3, 1, 3)\n",
    "plt.plot(time_vector_zj, left_heel_z_jerk, label='Left heel Z jerk')\n",
    "plt.xlabel('Time (s)')\n",
    "plt.ylabel('Jerk')\n",
    "plt.legend()\n",
    "plt.xlim(40,45)\n",
    "\n",
    "plt.show()"
   ]
  },
  {
   "cell_type": "code",
   "execution_count": null,
   "metadata": {},
   "outputs": [],
   "source": [
    "# Find the indices corresponding to 40 seconds and 42 seconds\n",
    "start_time = 40\n",
    "end_time = 45\n",
    "start_index = np.argmin(np.abs(time_vector - start_time))\n",
    "end_index = np.argmin(np.abs(time_vector - end_time))\n",
    "\n",
    "# Get the data in the dictionary for the specified time range\n",
    "filtered_heel_strikes_dict = {\n",
    "    'left': {\n",
    "        'indices': [idx for idx in heel_strikes_dict['left']['indices'] if start_index <= idx <= end_index],\n",
    "        'times': heel_strikes_dict['left']['times'][(heel_strikes_dict['left']['times'] >= start_time) & (heel_strikes_dict['left']['times'] <= end_time)],\n",
    "        'positions': heel_strikes_dict['left']['positions'][(heel_strikes_dict['left']['times'] >= start_time) & (heel_strikes_dict['left']['times'] <= end_time)]\n",
    "    },\n",
    "    'right': {\n",
    "        'indices': [idx for idx in heel_strikes_dict['right']['indices'] if start_index <= idx <= end_index],\n",
    "        'times': heel_strikes_dict['right']['times'][(heel_strikes_dict['right']['times'] >= start_time) & (heel_strikes_dict['right']['times'] <= end_time)]\n",
    "    }\n",
    "}\n",
    "\n",
    "\n",
    "print(len(filtered_heel_strikes_dict['left']['indices']))"
   ]
  },
  {
   "cell_type": "code",
   "execution_count": null,
   "metadata": {},
   "outputs": [],
   "source": []
  }
 ],
 "metadata": {
  "kernelspec": {
   "display_name": "ARGP_Analysis",
   "language": "python",
   "name": "python3"
  },
  "language_info": {
   "codemirror_mode": {
    "name": "ipython",
    "version": 3
   },
   "file_extension": ".py",
   "mimetype": "text/x-python",
   "name": "python",
   "nbconvert_exporter": "python",
   "pygments_lexer": "ipython3",
   "version": "3.9.16"
  },
  "orig_nbformat": 4
 },
 "nbformat": 4,
 "nbformat_minor": 2
}
