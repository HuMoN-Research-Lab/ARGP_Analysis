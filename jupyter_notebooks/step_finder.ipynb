{
 "cells": [
  {
   "cell_type": "code",
   "execution_count": 6,
   "metadata": {
    "ExecuteTime": {
     "end_time": "2023-08-15T15:53:03.502508Z",
     "start_time": "2023-08-15T15:53:03.496236Z"
    }
   },
   "outputs": [],
   "source": [
    "try:\n",
    "    import scipy\n",
    "except ImportError:\n",
    "    !pip install scipy\n",
    "    import scipy\n",
    "\n",
    "try:\n",
    "    import ipywidgets\n",
    "except ImportError:\n",
    "    !pip install ipywidgets\n",
    "    import ipywidgets\n",
    "\n",
    "try:\n",
    "    import papermill\n",
    "except ImportError:\n",
    "    !pip install papermill\n",
    "    import papermill\n",
    "\n",
    "try:\n",
    "    import plotly\n",
    "except ImportError:\n",
    "    !pip install plotly\n",
    "    import plotly\n",
    "\n",
    "\n",
    "    import path as Path"
   ]
  },
  {
   "cell_type": "code",
   "execution_count": 8,
   "metadata": {
    "ExecuteTime": {
     "start_time": "2023-08-02T12:52:59.852301Z",
     "end_time": "2023-08-02T12:52:59.856070Z"
    }
   },
   "outputs": [],
   "source": [
    "import numpy as np\n",
    "import matplotlib.pyplot as plt\n",
    "import pickle \n",
    "import pandas as pd\n",
    "from pathlib import Path\n",
    "\n",
    "from plotly.subplots import make_subplots\n",
    "import plotly.graph_objects as go\n",
    " \n",
    "\n",
    "# butterworth filter the data to clean the spikes\n",
    "from scipy.signal import butter, filtfilt, argrelextrema\n",
    "\n",
    "from pathlib import Path"
   ]
  },
  {
   "cell_type": "code",
   "execution_count": 3,
   "metadata": {
    "ExecuteTime": {
     "end_time": "2023-08-15T15:50:47.245488Z",
     "start_time": "2023-08-15T15:50:47.235395Z"
    }
   },
   "outputs": [],
   "source": [
    "# Experiment parameters and thresholds\n",
    "frame_rate = 300 # Hz\n",
    "position_threshold = 40 # mm\n",
    "velocity_threshold = -0.035 # mm/s\n",
    "acceleration_threshold = 0 # mm/s^2\n",
    "# jerk_threshold = 0 # mm/s^3"
   ]
  },
  {
   "attachments": {},
   "cell_type": "markdown",
   "metadata": {},
   "source": [
    "### Threshold guidelines?\n",
    "- possibly use relative threshold based on body weight? \n",
    "- perhaps an absolute threshold of velocity zero crossing is good enough \n",
    "- visual inspection? Kinda tedious. "
   ]
  },
  {
   "cell_type": "code",
   "execution_count": 7,
   "metadata": {
    "ExecuteTime": {
     "end_time": "2023-08-15T15:53:07.532523Z",
     "start_time": "2023-08-15T15:53:07.526646Z"
    }
   },
   "outputs": [
    {
     "ename": "NameError",
     "evalue": "name 'Path' is not defined",
     "output_type": "error",
     "traceback": [
      "\u001B[0;31m---------------------------------------------------------------------------\u001B[0m",
      "\u001B[0;31mNameError\u001B[0m                                 Traceback (most recent call last)",
      "Cell \u001B[0;32mIn[7], line 2\u001B[0m\n\u001B[1;32m      1\u001B[0m \u001B[38;5;66;03m#pickle_path = Path(r\"C:\\Users\\miken\\DATA\\ARGP\\SAMPLE_ARGP_DATA\\2022-08-29_Pilot_Data0002\\generic_skelly_dict.pkl\")\u001B[39;00m\n\u001B[0;32m----> 2\u001B[0m pickle_path \u001B[38;5;241m=\u001B[39m \u001B[43mPath\u001B[49m(\u001B[38;5;124mr\u001B[39m\u001B[38;5;124m\"\u001B[39m\u001B[38;5;124m/Users/mdn/Documents/DATA/ARGP/Pilot/demo_data_argp_analysis_Oct2022/2022-08-29_Pilot_Data0002/generic_skelly_dict.pkl\u001B[39m\u001B[38;5;124m\"\u001B[39m)\n",
      "\u001B[0;31mNameError\u001B[0m: name 'Path' is not defined"
     ]
    }
   ],
   "source": [
    "#pickle_path = Path(r\"C:\\Users\\miken\\DATA\\ARGP\\SAMPLE_ARGP_DATA\\2022-08-29_Pilot_Data0002\\generic_skelly_dict.pkl\")\n",
    "pickle_path = Path(r\"/Users/mdn/Documents/DATA/ARGP/Pilot/demo_data_argp_analysis_Oct2022/2022-08-29_Pilot_Data0002/generic_skelly_dict.pkl\")"
   ]
  },
  {
   "cell_type": "code",
   "execution_count": 8,
   "metadata": {
    "ExecuteTime": {
     "end_time": "2023-08-15T15:53:12.620585Z",
     "start_time": "2023-08-15T15:53:12.608770Z"
    }
   },
   "outputs": [
    {
     "ename": "NameError",
     "evalue": "name 'pickle_path' is not defined",
     "output_type": "error",
     "traceback": [
      "\u001B[0;31m---------------------------------------------------------------------------\u001B[0m",
      "\u001B[0;31mNameError\u001B[0m                                 Traceback (most recent call last)",
      "Cell \u001B[0;32mIn[8], line 2\u001B[0m\n\u001B[1;32m      1\u001B[0m \u001B[38;5;66;03m# open the saved file and load the dictionary using pickle\u001B[39;00m\n\u001B[0;32m----> 2\u001B[0m \u001B[38;5;28;01mwith\u001B[39;00m \u001B[38;5;28mopen\u001B[39m(\u001B[43mpickle_path\u001B[49m, \u001B[38;5;124m'\u001B[39m\u001B[38;5;124mrb\u001B[39m\u001B[38;5;124m'\u001B[39m) \u001B[38;5;28;01mas\u001B[39;00m f:\n\u001B[1;32m      3\u001B[0m     generic_skelly_dict \u001B[38;5;241m=\u001B[39m pickle\u001B[38;5;241m.\u001B[39mload(f)\n",
      "\u001B[0;31mNameError\u001B[0m: name 'pickle_path' is not defined"
     ]
    }
   ],
   "source": [
    "# open the saved file and load the dictionary using pickle\n",
    "with open(pickle_path, 'rb') as f:\n",
    "    generic_skelly_dict = pickle.load(f)\n"
   ]
  },
  {
   "cell_type": "code",
   "execution_count": 38,
   "metadata": {
    "ExecuteTime": {
     "start_time": "2023-08-02T14:30:45.654832Z",
     "end_time": "2023-08-02T14:30:45.665307Z"
    }
   },
   "outputs": [
    {
     "name": "stdout",
     "output_type": "stream",
     "text": [
      "['head_center_xyz', 'head_top_xyz', 'head_front_xyz', 'head_left_xyz', 'head_right_xyz', 'left_wrist_xyz', 'right_wrist_xyz', 'left_hand_xyz', 'right_hand_xyz', 'left_shoulder_xyz', 'right_shoulder_xyz', 'cspine_xyz', 'left_elbow_xyz', 'right_elbow_xyz', 'left_knee_xyz', 'right_knee_xyz', 'left_ankle_xyz', 'right_ankle_xyz', 'left_foot_xyz', 'right_foot_xyz', 'left_heel_xyz', 'right_heel_xyz', 'left_hip_xyz', 'right_hip_xyz', 'left_eyeball_center_xyz', 'right_eyeball_center_xyz']\n"
     ]
    }
   ],
   "source": [
    "# Listing out the keys in the dictionary for reference \n",
    "key_anatomical_points = list(generic_skelly_dict.keys())\n",
    "print(key_anatomical_points)"
   ]
  },
  {
   "cell_type": "code",
   "execution_count": 39,
   "metadata": {
    "ExecuteTime": {
     "start_time": "2023-08-02T14:31:44.599441Z",
     "end_time": "2023-08-02T14:31:44.607185Z"
    }
   },
   "outputs": [],
   "source": [
    "# Extract the heel data from the dictionary\n",
    "left_heel_data = generic_skelly_dict['left_heel_xyz']\n",
    "right_heel_data = generic_skelly_dict['right_heel_xyz']\n",
    "head_top_xyz = generic_skelly_dict['head_top_xyz']\n",
    "\n",
    "\n",
    "# extract the x,y,z coordinates from the heel data\n",
    "left_heel_x = left_heel_data[:,0]\n",
    "left_heel_y = left_heel_data[:,1]\n",
    "left_heel_z = left_heel_data[:,2]\n",
    "\n",
    "right_heel_x = right_heel_data[:,0]\n",
    "right_heel_y = right_heel_data[:,1]\n",
    "right_heel_z = right_heel_data[:,2]"
   ]
  },
  {
   "cell_type": "code",
   "execution_count": 40,
   "metadata": {
    "ExecuteTime": {
     "start_time": "2023-08-02T14:31:46.347956Z",
     "end_time": "2023-08-02T14:31:46.361489Z"
    }
   },
   "outputs": [
    {
     "name": "stdout",
     "output_type": "stream",
     "text": [
      "33436\n",
      "[[ 893.249  938.807   33.246]\n",
      " [ 893.139  938.795   33.18 ]\n",
      " [ 893.292  939.111   33.928]\n",
      " ...\n",
      " [ 984.456 1042.061   34.145]\n",
      " [ 984.491 1042.095   34.107]\n",
      " [ 984.456 1042.014   34.037]]\n"
     ]
    }
   ],
   "source": [
    "print(len(left_heel_data))\n",
    "print(left_heel_data)\n"
   ]
  },
  {
   "cell_type": "code",
   "execution_count": null,
   "metadata": {
    "ExecuteTime": {
     "start_time": "2023-05-03T14:18:01.586758Z",
     "end_time": "2023-05-03T14:18:01.717150Z"
    }
   },
   "outputs": [],
   "source": [
    "# Create a time vector\n",
    "def create_time_vector(left_heel_data, frame_rate): # Could have used any key in the dictionary here\n",
    "    time_vector = np.arange(0, len(left_heel_data)/frame_rate, 1/frame_rate)\n",
    "    return time_vector\n",
    "\n",
    "time_vector = create_time_vector(left_heel_data, frame_rate)\n",
    "\n",
    "\n",
    "print(len(time_vector))"
   ]
  },
  {
   "cell_type": "code",
   "execution_count": null,
   "metadata": {
    "ExecuteTime": {
     "start_time": "2023-05-03T14:18:01.588752Z",
     "end_time": "2023-05-03T14:18:01.717315Z"
    }
   },
   "outputs": [],
   "source": [
    "plt.plot(left_heel_data)\n",
    "plt.show()"
   ]
  },
  {
   "cell_type": "code",
   "execution_count": null,
   "metadata": {
    "ExecuteTime": {
     "start_time": "2023-05-03T14:18:01.654482Z",
     "end_time": "2023-05-03T14:18:01.840723Z"
    }
   },
   "outputs": [],
   "source": [
    "# Create a subplots object\n",
    "fig = make_subplots(rows=1, cols=1)\n",
    "\n",
    "# Add a line trace to the subplots object with the left_heel_data Y position\n",
    "fig.add_trace(go.Scatter(y = left_heel_data[:,1], mode=\"lines+markers\", name=\"Left Heel Data\"))\n",
    "\n",
    "# ayout\n",
    "fig.update_layout(\n",
    "    title=\"Left Heel Data - y Position\",\n",
    "    xaxis_title=\"Time\",\n",
    "    yaxis_title=\"Z position (mm)\",\n",
    "    legend_title=\"Legend\"\n",
    ")\n",
    "\n",
    "# Show the plot\n",
    "fig.show()"
   ]
  },
  {
   "cell_type": "code",
   "execution_count": null,
   "metadata": {
    "ExecuteTime": {
     "start_time": "2023-05-03T14:18:01.702651Z",
     "end_time": "2023-05-03T14:18:01.840900Z"
    }
   },
   "outputs": [],
   "source": [
    "# filter the data to clean the spikes in derived data\n",
    "def butterworth_filter(data, cutoff, frame_rate, order=4, filter_type='low'):\n",
    "    nyq = 0.5 * frame_rate\n",
    "    normal_cutoff = cutoff / nyq\n",
    "    b, a = butter(order, normal_cutoff, btype=filter_type, analog=False)\n",
    "    \n",
    "    # Adjust the padlen based on the length of the data\n",
    "    padlen = min(order * 3, len(data) - 1)\n",
    "    \n",
    "    y = filtfilt(b, a, data, padlen=padlen)  \n",
    "    return y \n"
   ]
  },
  {
   "cell_type": "code",
   "execution_count": null,
   "metadata": {
    "ExecuteTime": {
     "start_time": "2023-05-03T14:18:01.704523Z",
     "end_time": "2023-05-03T14:18:01.840943Z"
    }
   },
   "outputs": [],
   "source": [
    "# Filter parameters\n",
    "cutoff_frequency = 10 # Hz\n",
    "frame_rate = 300 # Hz\n",
    "filter_order = 4 # Filter order\n",
    "\n",
    "filtered_left_heel_z = butterworth_filter(left_heel_z, cutoff_frequency, frame_rate, order=filter_order)\n",
    "filtered_right_heel_z = butterworth_filter(right_heel_z, cutoff_frequency, frame_rate, order=filter_order)"
   ]
  },
  {
   "cell_type": "code",
   "execution_count": null,
   "metadata": {
    "ExecuteTime": {
     "start_time": "2023-05-03T14:18:01.705908Z",
     "end_time": "2023-05-03T14:18:01.840980Z"
    }
   },
   "outputs": [],
   "source": [
    "# Calculate the velocity and acceleration from position data\n",
    "def calculate_velocity_acceleration_jerk(position_data, frame_rate):\n",
    "    velocity_data = np.diff(position_data) / frame_rate\n",
    "    acceleration_data = np.diff(velocity_data) / frame_rate\n",
    "    jerk_data = np.diff(acceleration_data) / frame_rate\n",
    "    return velocity_data, acceleration_data, jerk_data"
   ]
  },
  {
   "cell_type": "code",
   "execution_count": null,
   "metadata": {
    "ExecuteTime": {
     "start_time": "2023-05-03T14:18:01.707462Z",
     "end_time": "2023-05-03T14:18:01.841034Z"
    }
   },
   "outputs": [],
   "source": [
    "\n",
    "def find_heel_strikes(velocity_data, position_data, acceleration_data,\n",
    "                      velocity_threshold, position_threshold,\n",
    "                      acceleration_threshold):\n",
    "    heel_strike_indices = []\n",
    "    data_length = len(velocity_data)\n",
    "    \n",
    "    for i in range(1, data_length - 1):  # Adjust the range to avoid index errors\n",
    "        # Check for local minima below the threshold\n",
    "        if (velocity_data[i] < velocity_threshold and\n",
    "            velocity_data[i] < velocity_data[i - 1] and\n",
    "            velocity_data[i] < velocity_data[i + 1]):\n",
    "            # Look in the next 75 frames\n",
    "            for j in range(i+1, min(i+76, data_length)):\n",
    "                if position_data[j] < position_threshold and acceleration_data[j] > acceleration_threshold:\n",
    "                    heel_strike_indices.append(j)\n",
    "                    break  # Exit inner loop once the heel strike is found\n",
    "\n",
    "    return heel_strike_indices\n"
   ]
  },
  {
   "cell_type": "code",
   "execution_count": null,
   "metadata": {
    "ExecuteTime": {
     "start_time": "2023-05-03T14:18:01.708885Z",
     "end_time": "2023-05-03T14:18:01.841085Z"
    }
   },
   "outputs": [],
   "source": [
    "\n",
    "\n",
    "\n",
    "#     return heel_strike_indices\n",
    "#     heel_strike_indices = []\n",
    "#     for i in range(len(velocity_data)-1):  # Adjust the range to avoid index errors\n",
    "#         if velocity_data[i] < velocity_threshold and acceleration_data[i] > acceleration_threshold:\n",
    "#             heel_strike_indices.append(i+1)  # Add 1 to the index \n",
    "# return heel_strike_indices\n"
   ]
  },
  {
   "cell_type": "code",
   "execution_count": null,
   "metadata": {
    "ExecuteTime": {
     "start_time": "2023-05-03T14:18:01.711644Z",
     "end_time": "2023-05-03T14:18:01.841148Z"
    }
   },
   "outputs": [],
   "source": [
    "# Calculate acceleration to for find_heel_strikes_using_peaks function\n",
    "\n",
    "left_velocity, left_acceleration, left_jerk = calculate_velocity_acceleration_jerk(filtered_left_heel_z, frame_rate)\n",
    "right_velocity, right_acceleration, right_jerk = calculate_velocity_acceleration_jerk(filtered_right_heel_z, frame_rate)\n",
    "\n"
   ]
  },
  {
   "cell_type": "code",
   "execution_count": null,
   "metadata": {
    "ExecuteTime": {
     "start_time": "2023-05-03T14:18:01.720531Z",
     "end_time": "2023-05-03T14:18:01.841472Z"
    }
   },
   "outputs": [],
   "source": [
    "# # Call the function for both heel and right heel position data (VELOCITY)\n",
    "# left_heel_strikes_indices = find_heel_strikes_velocity_acceleration_jerk(filtered_left_heel_z, frame_rate, position_threshold, acceleration_threshold)\n",
    "# right_heel_strikes_indices = find_heel_strikes_velocity_acceleration_jerk(filtered_right_heel_z, frame_rate, position_threshold, acceleration_threshold)\n",
    "\n",
    "\n",
    "# Call the function for both left and right heel position data\n",
    "left_heel_strikes_indices = find_heel_strikes(left_velocity, filtered_left_heel_z, left_acceleration, velocity_threshold, position_threshold, acceleration_threshold)\n",
    "right_heel_strikes_indices = find_heel_strikes(right_velocity, filtered_right_heel_z, right_acceleration, velocity_threshold, position_threshold, acceleration_threshold)"
   ]
  },
  {
   "cell_type": "code",
   "execution_count": null,
   "metadata": {
    "ExecuteTime": {
     "start_time": "2023-05-03T14:18:01.723143Z",
     "end_time": "2023-05-03T14:18:01.841533Z"
    }
   },
   "outputs": [],
   "source": [
    "# Get the heel strike times using the time vector\n",
    "left_heel_strikes_times = time_vector[left_heel_strikes_indices]\n",
    "right_heel_strikes_times = time_vector[right_heel_strikes_indices]\n",
    "\n",
    "# Create a dictionary with left and right heel strikes\n",
    "heel_strikes_dict = {\n",
    "    'left': {\n",
    "        'indices': left_heel_strikes_indices,\n",
    "        'times': left_heel_strikes_times,\n",
    "        'positions': left_heel_data[left_heel_strikes_indices]\n",
    "    },\n",
    "    'right': {\n",
    "        'indices': right_heel_strikes_indices,\n",
    "        'times': right_heel_strikes_times,\n",
    "        'positions': right_heel_data[right_heel_strikes_indices]\n",
    "    }\n",
    "}\n",
    "\n"
   ]
  },
  {
   "cell_type": "code",
   "execution_count": null,
   "metadata": {
    "ExecuteTime": {
     "start_time": "2023-05-03T14:18:01.726513Z",
     "end_time": "2023-05-03T14:18:01.841712Z"
    }
   },
   "outputs": [],
   "source": [
    "print(heel_strikes_dict['right']['times'])"
   ]
  },
  {
   "cell_type": "code",
   "execution_count": null,
   "metadata": {
    "ExecuteTime": {
     "start_time": "2023-05-03T14:18:01.728866Z",
     "end_time": "2023-05-03T14:18:01.841796Z"
    }
   },
   "outputs": [],
   "source": [
    "print(len(heel_strikes_dict['right']['times']))"
   ]
  },
  {
   "cell_type": "code",
   "execution_count": null,
   "metadata": {
    "ExecuteTime": {
     "start_time": "2023-05-03T14:18:01.731415Z",
     "end_time": "2023-05-03T14:18:01.841852Z"
    }
   },
   "outputs": [],
   "source": [
    "r_heel_strike = list(heel_strikes_dict['right'].keys())\n",
    "print(r_heel_strike)"
   ]
  },
  {
   "attachments": {},
   "cell_type": "markdown",
   "metadata": {},
   "source": [
    "### I want to check if the \"positions\" actually hold the correct values compared to the debug plot below"
   ]
  },
  {
   "cell_type": "code",
   "execution_count": null,
   "metadata": {
    "ExecuteTime": {
     "start_time": "2023-05-03T14:17:44.002306Z",
     "end_time": "2023-05-03T14:17:44.241813Z"
    },
    "pycharm": {
     "is_executing": true
    }
   },
   "outputs": [],
   "source": [
    "# debug plot to see if anything is actually showing \n",
    "\n",
    "left_heel_z_velocity, left_heel_z_acceleration, left_heel_z_jerk = calculate_velocity_acceleration_jerk(filtered_left_heel_z, frame_rate)\n",
    "\n",
    "left_index_times = heel_strikes_dict['left']['times']\n",
    "left_index_positions = heel_strikes_dict['left']['positions']\n",
    "left_index_positions_z = left_index_positions[:,2]\n",
    "\n",
    "# Plot the left heel's z-axis velocity and acceleration data\n",
    "\n",
    "time_vector_zv = time_vector[:-1] # Adjust the time vector to match the velocity and acceleration data\n",
    "time_vector_za = time_vector[:-2] \n",
    "time_vector_zj = time_vector[:-3]\n",
    "\n",
    "\n",
    "\n",
    "# Create a subplots object with 4 rows and 1 column\n",
    "fig = make_subplots(rows=3, cols=1, shared_xaxes=True, vertical_spacing=0.1)\n",
    "\n",
    "# Left heel Z position plot\n",
    "fig.add_trace(\n",
    "    go.Scatter(\n",
    "        x=time_vector, y=filtered_left_heel_z,\n",
    "        mode=\"lines\", name=\"Left heel Z position\", line=dict(color=\"yellow\")\n",
    "    ),\n",
    "    row=1, col=1\n",
    ")\n",
    "\n",
    "fig.add_shape(\n",
    "    type=\"line\", x0=min(time_vector), x1=max(time_vector), y0=40, y1=40,\n",
    "    yref=\"y1\", xref=\"x1\", line=dict(color=\"red\", dash=\"dash\")\n",
    ")\n",
    "\n",
    "fig.add_trace(\n",
    "    go.Scatter(\n",
    "        x=left_index_times, y=left_index_positions_z,\n",
    "        mode=\"markers\", marker=dict(color=\"blue\", symbol=\"x\"),\n",
    "        name=\"Left Heel Strikes\"\n",
    "    ),\n",
    "    row=1, col=1\n",
    ")\n",
    "\n",
    "# Left heel Z velocity plot\n",
    "fig.add_trace(\n",
    "    go.Scatter(\n",
    "        x=time_vector_zv, y=left_heel_z_velocity,\n",
    "        mode=\"lines\", name=\"Left heel Z velocity\", line=dict(color=\"blue\")\n",
    "    ),\n",
    "    row=2, col=1\n",
    ")\n",
    "\n",
    "fig.add_shape(\n",
    "    type=\"line\", x0=min(time_vector_zv), x1=max(time_vector_zv), y0=-0.035, y1=-0.035,\n",
    "    yref=\"y2\", xref=\"x2\", line=dict(color=\"red\", dash=\"dash\")\n",
    ")\n",
    "\n",
    "# Left heel Z acceleration plot\n",
    "fig.add_trace(\n",
    "    go.Scatter(\n",
    "        x=time_vector_za, y=left_heel_z_acceleration,\n",
    "        mode=\"lines\", name=\"Left heel Z acceleration\"\n",
    "    ),\n",
    "    row=3, col=1\n",
    ")\n",
    "\n",
    "fig.add_shape(\n",
    "    type=\"line\", x0=min(time_vector_za), x1=max(time_vector_za), y0=0, y1=0,\n",
    "    yref=\"y3\", xref=\"x3\", line=dict(color=\"red\", dash=\"dash\")\n",
    ")\n",
    "\n",
    "\n",
    "# Update layout\n",
    "fig.update_layout(\n",
    "    title=\"Left Heel Data\",\n",
    "    xaxis=dict(range=[80, 100], title=\"Time (s)\"),\n",
    "    yaxis1=dict(title=\"Position\"),\n",
    "    yaxis2=dict(title=\"Velocity\"),\n",
    "    yaxis3=dict(title=\"Acceleration\"),\n",
    ")\n",
    "\n",
    "# Show the plot\n",
    "fig.show()"
   ]
  },
  {
   "cell_type": "code",
   "execution_count": null,
   "metadata": {
    "ExecuteTime": {
     "start_time": "2023-05-03T14:30:55.056086Z",
     "end_time": "2023-05-03T14:30:55.440325Z"
    }
   },
   "outputs": [],
   "source": [
    "def find_trial_indices(data, start_frame, comparator, order=1):\n",
    "    trial_indices = argrelextrema(data, comparator, order=order)\n",
    "    trial_indices = trial_indices[0][trial_indices[0] >= start_frame]\n",
    "    return trial_indices\n"
   ]
  },
  {
   "cell_type": "code",
   "execution_count": 41,
   "outputs": [],
   "source": [
    "import numpy as np\n",
    "from scipy.signal import savgol_filter\n",
    "\n",
    "def segment_trials(data_xyz:np.ndarray, window_length:int, polyorder:int):\n",
    "\n",
    "    assert window_length % 2 == 1, \"Window length must be odd\"\n",
    "\n",
    "    trial_dict = {}\n",
    "    trial_num = 0\n",
    "    trial_start = None\n",
    "\n",
    "    # Apply a Savitzky-Golay filter to smooth the y-coordinate data\n",
    "    y_smooth = savgol_filter(data_xyz[:, 1], window_length, polyorder)\n",
    "\n",
    "    # Compute the derivative of the smoothed y-coordinate data\n",
    "    y_velocity = np.gradient(y_smooth)\n",
    "\n",
    "    for frame_number in range(1, data_xyz.shape[0]):\n",
    "        # Check if the derivative has changed sign\n",
    "        if y_velocity[frame_number] * y_velocity[frame_number-1] < 0:\n",
    "            if trial_start is not None:\n",
    "                # If we're in a trial, this sign change marks the end of the trial\n",
    "                trial_dict[trial_num] = (trial_start, frame_number-1)\n",
    "                trial_num += 1\n",
    "            # Start a new trial\n",
    "            trial_start = frame_number\n",
    "\n",
    "    # Handle the case where the data ends while we're still in a trial\n",
    "    if trial_start is not None:\n",
    "        trial_dict[trial_num] = (trial_start, data_xyz.shape[0] - 1)\n",
    "\n",
    "    return trial_dict\n",
    "\n"
   ],
   "metadata": {
    "collapsed": false,
    "ExecuteTime": {
     "start_time": "2023-08-02T14:31:53.169487Z",
     "end_time": "2023-08-02T14:31:53.178520Z"
    }
   }
  },
  {
   "cell_type": "code",
   "execution_count": 42,
   "outputs": [],
   "source": [
    "trial_indexes = segment_trials(head_top_xyz, 5, 3)"
   ],
   "metadata": {
    "collapsed": false,
    "ExecuteTime": {
     "start_time": "2023-08-02T14:31:54.273525Z",
     "end_time": "2023-08-02T14:31:54.283688Z"
    }
   }
  },
  {
   "cell_type": "code",
   "execution_count": 43,
   "outputs": [
    {
     "name": "stdout",
     "output_type": "stream",
     "text": [
      "{0: (2, 3), 1: (4, 6), 2: (7, 9), 3: (10, 12), 4: (13, 15), 5: (16, 17), 6: (18, 22), 7: (23, 24), 8: (25, 27), 9: (28, 28), 10: (29, 74), 11: (75, 75), 12: (76, 77), 13: (78, 79), 14: (80, 86), 15: (87, 88), 16: (89, 92), 17: (93, 94), 18: (95, 95), 19: (96, 104), 20: (105, 106), 21: (107, 108), 22: (109, 110), 23: (111, 112), 24: (113, 114), 25: (115, 125), 26: (126, 130), 27: (131, 144), 28: (145, 145), 29: (146, 153), 30: (154, 156), 31: (157, 159), 32: (160, 161), 33: (162, 163), 34: (164, 166), 35: (167, 168), 36: (169, 170), 37: (171, 171), 38: (172, 196), 39: (197, 230), 40: (231, 300), 41: (301, 301), 42: (302, 302), 43: (303, 305), 44: (306, 307), 45: (308, 311), 46: (312, 314), 47: (315, 316), 48: (317, 318), 49: (319, 320), 50: (321, 325), 51: (326, 327), 52: (328, 332), 53: (333, 334), 54: (335, 335), 55: (336, 337), 56: (338, 340), 57: (341, 341), 58: (342, 357), 59: (358, 360), 60: (361, 363), 61: (364, 364), 62: (365, 368), 63: (369, 369), 64: (370, 372), 65: (373, 374), 66: (375, 377), 67: (378, 380), 68: (381, 382), 69: (383, 386), 70: (387, 389), 71: (390, 391), 72: (392, 393), 73: (394, 397), 74: (398, 400), 75: (401, 404), 76: (405, 405), 77: (406, 408), 78: (409, 411), 79: (412, 427), 80: (428, 432), 81: (433, 443), 82: (444, 446), 83: (447, 448), 84: (449, 454), 85: (455, 456), 86: (457, 459), 87: (460, 463), 88: (464, 466), 89: (467, 467), 90: (468, 472), 91: (473, 473), 92: (474, 476), 93: (477, 480), 94: (481, 482), 95: (483, 483), 96: (484, 484), 97: (485, 486), 98: (487, 494), 99: (495, 496), 100: (497, 499), 101: (500, 503), 102: (504, 504), 103: (505, 525), 104: (526, 529), 105: (530, 532), 106: (533, 560), 107: (561, 595), 108: (596, 597), 109: (598, 609), 110: (610, 620), 111: (621, 635), 112: (636, 661), 113: (662, 662), 114: (663, 665), 115: (666, 697), 116: (698, 723), 117: (724, 742), 118: (743, 778), 119: (779, 822), 120: (823, 1335), 121: (1336, 1904), 122: (1905, 2046), 123: (2047, 2270), 124: (2271, 2453), 125: (2454, 2454), 126: (2455, 2457), 127: (2458, 2485), 128: (2486, 2488), 129: (2489, 2489), 130: (2490, 2495), 131: (2496, 2669), 132: (2670, 2723), 133: (2724, 2990), 134: (2991, 2991), 135: (2992, 2994), 136: (2995, 2995), 137: (2996, 3004), 138: (3005, 3005), 139: (3006, 3008), 140: (3009, 3009), 141: (3010, 3011), 142: (3012, 3016), 143: (3017, 3018), 144: (3019, 3020), 145: (3021, 3023), 146: (3024, 3048), 147: (3049, 3050), 148: (3051, 3052), 149: (3053, 3053), 150: (3054, 3055), 151: (3056, 3057), 152: (3058, 3058), 153: (3059, 3061), 154: (3062, 3142), 155: (3143, 3191), 156: (3192, 3192), 157: (3193, 3214), 158: (3215, 3230), 159: (3231, 3248), 160: (3249, 3249), 161: (3250, 3252), 162: (3253, 3295), 163: (3296, 3357), 164: (3358, 3417), 165: (3418, 3431), 166: (3432, 3433), 167: (3434, 3451), 168: (3452, 3477), 169: (3478, 3479), 170: (3480, 3483), 171: (3484, 3485), 172: (3486, 3560), 173: (3561, 3620), 174: (3621, 3679), 175: (3680, 3680), 176: (3681, 3684), 177: (3685, 3687), 178: (3688, 3689), 179: (3690, 3693), 180: (3694, 3695), 181: (3696, 3697), 182: (3698, 3699), 183: (3700, 3732), 184: (3733, 3733), 185: (3734, 3791), 186: (3792, 3792), 187: (3793, 3804), 188: (3805, 3807), 189: (3808, 3809), 190: (3810, 3829), 191: (3830, 3894), 192: (3895, 3913), 193: (3914, 4020), 194: (4021, 4023), 195: (4024, 4025), 196: (4026, 4050), 197: (4051, 4071), 198: (4072, 4074), 199: (4075, 4117), 200: (4118, 4118), 201: (4119, 4155), 202: (4156, 4253), 203: (4254, 4347), 204: (4348, 4349), 205: (4350, 4351), 206: (4352, 4381), 207: (4382, 4383), 208: (4384, 4388), 209: (4389, 4569), 210: (4570, 4714), 211: (4715, 4792), 212: (4793, 4810), 213: (4811, 4941), 214: (4942, 4959), 215: (4960, 5052), 216: (5053, 5099), 217: (5100, 5112), 218: (5113, 5129), 219: (5130, 5171), 220: (5172, 5172), 221: (5173, 5173), 222: (5174, 5271), 223: (5272, 5389), 224: (5390, 5392), 225: (5393, 5403), 226: (5404, 5404), 227: (5405, 5407), 228: (5408, 5421), 229: (5422, 5427), 230: (5428, 5428), 231: (5429, 5439), 232: (5440, 5440), 233: (5441, 5443), 234: (5444, 5487), 235: (5488, 5488), 236: (5489, 5497), 237: (5498, 5515), 238: (5516, 5627), 239: (5628, 5636), 240: (5637, 5639), 241: (5640, 5663), 242: (5664, 5674), 243: (5675, 5718), 244: (5719, 5751), 245: (5752, 5796), 246: (5797, 5839), 247: (5840, 6645), 248: (6646, 6762), 249: (6763, 6793), 250: (6794, 8350), 251: (8351, 9474), 252: (9475, 10599), 253: (10600, 10627), 254: (10628, 10629), 255: (10630, 10640), 256: (10641, 10686), 257: (10687, 11799), 258: (11800, 13031), 259: (13032, 14212), 260: (14213, 15340), 261: (15341, 15393), 262: (15394, 15437), 263: (15438, 16579), 264: (16580, 17776), 265: (17777, 18948), 266: (18949, 20138), 267: (20139, 21332), 268: (21333, 21333), 269: (21334, 21344), 270: (21345, 22587), 271: (22588, 23663), 272: (23664, 23687), 273: (23688, 23784), 274: (23785, 25007), 275: (25008, 26192), 276: (26193, 26195), 277: (26196, 26196), 278: (26197, 27296), 279: (27297, 28436), 280: (28437, 29654), 281: (29655, 30932), 282: (30933, 30933), 283: (30934, 30937), 284: (30938, 31021), 285: (31022, 31034), 286: (31035, 32106), 287: (32107, 32698), 288: (32699, 32788), 289: (32789, 32809), 290: (32810, 32883), 291: (32884, 32935), 292: (32936, 32937), 293: (32938, 32939), 294: (32940, 32940), 295: (32941, 32943), 296: (32944, 32950), 297: (32951, 32960), 298: (32961, 32973), 299: (32974, 32975), 300: (32976, 32976), 301: (32977, 32979), 302: (32980, 32985), 303: (32986, 32993), 304: (32994, 32999), 305: (33000, 33005), 306: (33006, 33016), 307: (33017, 33062), 308: (33063, 33064), 309: (33065, 33081), 310: (33082, 33083), 311: (33084, 33085), 312: (33086, 33087), 313: (33088, 33089), 314: (33090, 33142), 315: (33143, 33149), 316: (33150, 33153), 317: (33154, 33155), 318: (33156, 33157), 319: (33158, 33195), 320: (33196, 33199), 321: (33200, 33202), 322: (33203, 33204), 323: (33205, 33217), 324: (33218, 33219), 325: (33220, 33225), 326: (33226, 33226), 327: (33227, 33267), 328: (33268, 33268), 329: (33269, 33272), 330: (33273, 33275), 331: (33276, 33277), 332: (33278, 33287), 333: (33288, 33289), 334: (33290, 33311), 335: (33312, 33312), 336: (33313, 33314), 337: (33315, 33350), 338: (33351, 33351), 339: (33352, 33354), 340: (33355, 33355), 341: (33356, 33388), 342: (33389, 33390), 343: (33391, 33409), 344: (33410, 33410), 345: (33411, 33415), 346: (33416, 33417), 347: (33418, 33421), 348: (33422, 33423), 349: (33424, 33426), 350: (33427, 33435)}\n"
     ]
    }
   ],
   "source": [
    "print(trial_indexes)"
   ],
   "metadata": {
    "collapsed": false,
    "ExecuteTime": {
     "start_time": "2023-08-02T14:31:54.889812Z",
     "end_time": "2023-08-02T14:31:54.903636Z"
    }
   }
  },
  {
   "cell_type": "code",
   "execution_count": 1,
   "outputs": [
    {
     "ename": "NameError",
     "evalue": "name 'trial_indexes' is not defined",
     "output_type": "error",
     "traceback": [
      "\u001B[0;31m---------------------------------------------------------------------------\u001B[0m",
      "\u001B[0;31mNameError\u001B[0m                                 Traceback (most recent call last)",
      "Cell \u001B[0;32mIn[1], line 1\u001B[0m\n\u001B[0;32m----> 1\u001B[0m start_trial_markers \u001B[38;5;241m=\u001B[39m [start \u001B[38;5;28;01mfor\u001B[39;00m start, end \u001B[38;5;129;01min\u001B[39;00m \u001B[43mtrial_indexes\u001B[49m\u001B[38;5;241m.\u001B[39mvalues()]\n\u001B[1;32m      2\u001B[0m end_trial_markers \u001B[38;5;241m=\u001B[39m [end \u001B[38;5;28;01mfor\u001B[39;00m start, end \u001B[38;5;129;01min\u001B[39;00m trial_indexes\u001B[38;5;241m.\u001B[39mvalues()]\n\u001B[1;32m      4\u001B[0m fig \u001B[38;5;241m=\u001B[39m make_subplots(rows\u001B[38;5;241m=\u001B[39m\u001B[38;5;241m1\u001B[39m, cols\u001B[38;5;241m=\u001B[39m\u001B[38;5;241m1\u001B[39m)\n",
      "\u001B[0;31mNameError\u001B[0m: name 'trial_indexes' is not defined"
     ]
    }
   ],
   "source": [
    "start_trial_markers = [start for start, end in trial_indexes.values()]\n",
    "end_trial_markers = [end for start, end in trial_indexes.values()]\n",
    "\n",
    "fig = make_subplots(rows=1, cols=1)\n",
    "\n",
    "fig.add_trace(go.Scatter(y=left_heel_data[:, 1], mode=\"lines\", name=\"Y Position Data\"))\n",
    "\n",
    "fig.add_trace(go.Scatter(x=start_trial_markers,\n",
    "                         y=left_heel_data[start_trial_markers, 1],\n",
    "                         mode='markers',\n",
    "                         marker=dict(symbol='x', size=10),\n",
    "                         name='Start Trial'))\n",
    "\n",
    "fig.add_trace(go.Scatter(x=end_trial_markers,\n",
    "                         y=left_heel_data[end_trial_markers, 1],\n",
    "                         mode='markers',\n",
    "                         marker=dict(symbol='circle', size=10),\n",
    "                         name='End Trial'))\n",
    "\n",
    "fig.show()"
   ],
   "metadata": {
    "collapsed": false,
    "pycharm": {
     "is_executing": true
    },
    "ExecuteTime": {
     "end_time": "2023-08-15T15:50:28.401819Z",
     "start_time": "2023-08-15T15:50:28.240800Z"
    }
   }
  },
  {
   "cell_type": "code",
   "execution_count": null,
   "metadata": {
    "ExecuteTime": {
     "start_time": "2023-05-03T14:20:17.402473Z",
     "end_time": "2023-05-03T14:20:17.811222Z"
    }
   },
   "outputs": [],
   "source": [
    "# Replace with your actual start frame\n",
    "start_frame = 5000\n",
    "\n",
    "# Define the window (order) for the local maxima and minima\n",
    "order = 800\n",
    "\n",
    "# Find crest (local maxima) and trough (local minima) indices\n",
    "crest_indices = find_trial_indices(left_heel_data[:, 1], start_frame, np.greater, order)\n",
    "trough_indices = find_trial_indices(left_heel_data[:, 1], start_frame, np.less, order)\n",
    "\n",
    "print(crest_indices)\n"
   ]
  },
  {
   "cell_type": "code",
   "execution_count": null,
   "metadata": {
    "ExecuteTime": {
     "start_time": "2023-05-03T14:20:19.901419Z",
     "end_time": "2023-05-03T14:20:19.989140Z"
    }
   },
   "outputs": [],
   "source": [
    "# Combine crest and trough indices and sort\n",
    "trial_indices = np.sort(np.concatenate((crest_indices, trough_indices)))\n",
    "\n",
    "# Create a list of trial start and stop indices\n",
    "trial_start_stop_indices = [(trial_indices[i], trial_indices[i+1]) for i in range(0, len(trial_indices)-1, 2)]\n"
   ]
  },
  {
   "cell_type": "code",
   "execution_count": null,
   "metadata": {
    "ExecuteTime": {
     "start_time": "2023-05-03T14:20:22.355088Z",
     "end_time": "2023-05-03T14:20:22.454100Z"
    }
   },
   "outputs": [],
   "source": [
    "# Number each trial\n",
    "trial_start_stop_indices = list(enumerate(trial_start_stop_indices, start=1))\n",
    "print(trial_start_stop_indices)\n"
   ]
  },
  {
   "cell_type": "code",
   "execution_count": null,
   "metadata": {
    "ExecuteTime": {
     "start_time": "2023-05-03T14:20:24.172656Z",
     "end_time": "2023-05-03T14:20:24.272333Z"
    }
   },
   "outputs": [],
   "source": [
    "start_trial_markers = []\n",
    "end_trial_markers = []\n",
    "\n",
    "for i in range(len(trial_start_stop_indices)):\n",
    "    start_trial_markers.append(trial_start_stop_indices[i][1][0])\n",
    "    end_trial_markers.append(trial_start_stop_indices[i][1][1])\n",
    "\n",
    "print(start_trial_markers)\n"
   ]
  },
  {
   "cell_type": "code",
   "execution_count": null,
   "metadata": {
    "ExecuteTime": {
     "start_time": "2023-05-03T14:20:27.961372Z",
     "end_time": "2023-05-03T14:20:28.061945Z"
    }
   },
   "outputs": [],
   "source": [
    "print(trial_start_stop_indices[3][1][0])"
   ]
  },
  {
   "cell_type": "code",
   "execution_count": 23,
   "outputs": [
    {
     "ename": "NameError",
     "evalue": "name 'trial_dict' is not defined",
     "output_type": "error",
     "traceback": [
      "\u001B[0;31m---------------------------------------------------------------------------\u001B[0m",
      "\u001B[0;31mNameError\u001B[0m                                 Traceback (most recent call last)",
      "Cell \u001B[0;32mIn[23], line 1\u001B[0m\n\u001B[0;32m----> 1\u001B[0m start_trial_markers \u001B[38;5;241m=\u001B[39m [start \u001B[38;5;28;01mfor\u001B[39;00m start, end \u001B[38;5;129;01min\u001B[39;00m \u001B[43mtrial_dict\u001B[49m\u001B[38;5;241m.\u001B[39mvalues()]\n\u001B[1;32m      2\u001B[0m end_trial_markers \u001B[38;5;241m=\u001B[39m [end \u001B[38;5;28;01mfor\u001B[39;00m start, end \u001B[38;5;129;01min\u001B[39;00m trial_dict\u001B[38;5;241m.\u001B[39mvalues()]\n\u001B[1;32m      4\u001B[0m fig \u001B[38;5;241m=\u001B[39m make_subplots(rows\u001B[38;5;241m=\u001B[39m\u001B[38;5;241m1\u001B[39m, cols\u001B[38;5;241m=\u001B[39m\u001B[38;5;241m1\u001B[39m)\n",
      "\u001B[0;31mNameError\u001B[0m: name 'trial_dict' is not defined"
     ]
    }
   ],
   "source": [],
   "metadata": {
    "collapsed": false
   }
  },
  {
   "cell_type": "code",
   "execution_count": null,
   "metadata": {
    "ExecuteTime": {
     "start_time": "2023-05-03T14:08:37.248113Z",
     "end_time": "2023-05-03T14:08:37.297514Z"
    },
    "pycharm": {
     "is_executing": true
    }
   },
   "outputs": [],
   "source": [
    "fig = make_subplots(rows=1, cols=1)\n",
    "\n",
    "fig.add_trace(go.Scatter(y=left_heel_data[:, 1], mode=\"lines\", name=\"Left Heel Data\"))\n",
    "\n",
    "fig.add_trace(go.Scatter(x=start_trial_markers,\n",
    "                         y=left_heel_data[start_trial_markers],\n",
    "                         mode='markers',\n",
    "                         marker=dict(symbol='circle', size=10),\n",
    "                         name='Start Trial'))\n",
    "\n",
    "fig.add_trace(go.Scatter(x=end_trial_markers,\n",
    "                         y=left_heel_data[end_trial_markers],\n",
    "                         mode='markers',\n",
    "                         marker=dict(symbol='x', size=10),\n",
    "                         name='End Trial'))\n",
    "\n",
    "fig.update_layout(\n",
    "    title=\"Left Heel Data - y Position\",\n",
    "    xaxis_title=\"Time\",\n",
    "    yaxis_title=\"Z position (mm)\",\n",
    "    legend_title=\"Legend\"\n",
    ")\n",
    "\n",
    "fig.show()\n"
   ]
  },
  {
   "cell_type": "code",
   "execution_count": null,
   "metadata": {
    "ExecuteTime": {
     "start_time": "2023-05-03T14:20:36.935253Z",
     "end_time": "2023-05-03T14:20:36.938556Z"
    }
   },
   "outputs": [],
   "source": [
    "# Find the indices corresponding to 40 seconds and 42 seconds\n",
    "start_time = 40\n",
    "end_time = 45\n",
    "start_index = np.argmin(np.abs(time_vector - start_time))\n",
    "end_index = np.argmin(np.abs(time_vector - end_time))\n",
    "\n",
    "# Get the data in the dictionary for the specified time range\n",
    "filtered_heel_strikes_dict = {\n",
    "    'left': {\n",
    "        'indices': [idx for idx in heel_strikes_dict['left']['indices'] if start_index <= idx <= end_index],\n",
    "        'times': heel_strikes_dict['left']['times'][(heel_strikes_dict['left']['times'] >= start_time) & (heel_strikes_dict['left']['times'] <= end_time)],\n",
    "        'positions': heel_strikes_dict['left']['positions'][(heel_strikes_dict['left']['times'] >= start_time) & (heel_strikes_dict['left']['times'] <= end_time)]\n",
    "    },\n",
    "    'right': {\n",
    "        'indices': [idx for idx in heel_strikes_dict['right']['indices'] if start_index <= idx <= end_index],\n",
    "        'times': heel_strikes_dict['right']['times'][(heel_strikes_dict['right']['times'] >= start_time) & (heel_strikes_dict['right']['times'] <= end_time)]\n",
    "    }\n",
    "}\n",
    "\n",
    "\n",
    "print(len(filtered_heel_strikes_dict['left']['indices']))"
   ]
  },
  {
   "cell_type": "code",
   "execution_count": null,
   "metadata": {
    "ExecuteTime": {
     "start_time": "2023-05-03T14:08:36.259092Z",
     "end_time": "2023-05-03T14:08:37.299081Z"
    },
    "pycharm": {
     "is_executing": true
    }
   },
   "outputs": [],
   "source": []
  }
 ],
 "metadata": {
  "kernelspec": {
   "display_name": "venv",
   "language": "python",
   "name": "python3"
  },
  "language_info": {
   "codemirror_mode": {
    "name": "ipython",
    "version": 3
   },
   "file_extension": ".py",
   "mimetype": "text/x-python",
   "name": "python",
   "nbconvert_exporter": "python",
   "pygments_lexer": "ipython3",
   "version": "3.9.13"
  },
  "orig_nbformat": 4,
  "vscode": {
   "interpreter": {
    "hash": "92d2d718d17f61ad07e93875a9464d6881aa064c9b74871f6d246b6e4c6ebbe6"
   }
  }
 },
 "nbformat": 4,
 "nbformat_minor": 2
}
