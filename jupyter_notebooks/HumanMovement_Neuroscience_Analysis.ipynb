{
 "cells": [
  {
   "cell_type": "markdown",
   "source": [
    "# The Neuroscience of Human Movement analysis notebook!"
   ],
   "metadata": {
    "collapsed": false
   },
   "id": "1cdfdca98234e968"
  },
  {
   "cell_type": "markdown",
   "source": [],
   "metadata": {
    "collapsed": false
   },
   "id": "41378eca2319bd7a"
  },
  {
   "cell_type": "code",
   "execution_count": null,
   "outputs": [],
   "source": [
    "#Importing libraries\n",
    "\n",
    "\n",
    "from pathlib import Path\n",
    "\n",
    "try:\n",
    "    import numpy as np\n",
    "except Exception as e:\n",
    "    print(e)\n",
    "    %pip install numpy\n",
    "    import numpy as np\n",
    "\n",
    "try:\n",
    "    from scipy.signal import find_peaks\n",
    "except Exception as e:\n",
    "    print(e)\n",
    "    %pip install scipy\n",
    "    from scipy.signal import find_peaks\n",
    "\n",
    "try:\n",
    "    from plotly.subplots import make_subplots\n",
    "    import plotly.graph_objects as go\n",
    "except Exception as e:\n",
    "    print(e)\n",
    "    %pip install plotly\n",
    "    from plotly.subplots import make_subplots\n",
    "    import plotly.graph_objects as go"
   ],
   "metadata": {
    "collapsed": false
   },
   "id": "21dd4017a36af8f4"
  },
  {
   "cell_type": "code",
   "execution_count": null,
   "outputs": [],
   "source": [
    "data = np.load(\"/Users/mdn/Documents/PROJECTS/FreeMoCap_data/2023-10-05_max_jump_recording_sessions_KK_ML/session_2023-10-05_15_59_45/recording_16_04_29_gmt-4__ML_max_jump/output_data/center_of_mass/total_body_center_of_mass_xyz.npy\")\n",
    "\n",
    "path_to_recording = r\"/Users/mdn/Documents/PROJECTS/FreeMoCap_data/2023-10-05_max_jump_recording_sessions_KK_ML/session_2023-10-05_15_59_45/recording_16_04_29_gmt-4__ML_max_jump\""
   ],
   "metadata": {
    "collapsed": false
   },
   "id": "f6e8800a49f64c7e"
  },
  {
   "cell_type": "code",
   "execution_count": null,
   "outputs": [],
   "source": [
    "data.shape"
   ],
   "metadata": {
    "collapsed": false
   },
   "id": "39262462fad21b10"
  },
  {
   "cell_type": "markdown",
   "source": [
    "### What does the \"shape\" of the data mean?\n",
    "The shape of the data is the number of frames by the number of dimensions. In this case, the data is 3D, so the shape is (number of frames, 3). "
   ],
   "metadata": {
    "collapsed": false
   },
   "id": "a8200e75a3457e6"
  },
  {
   "cell_type": "code",
   "execution_count": null,
   "outputs": [],
   "source": [
    "\n",
    "mediapipe_indices = ['nose',\n",
    "    'left_eye_inner',\n",
    "    'left_eye',\n",
    "    'left_eye_outer',\n",
    "    'right_eye_inner',\n",
    "    'right_eye',\n",
    "    'right_eye_outer',\n",
    "    'left_ear',\n",
    "    'right_ear',\n",
    "    'mouth_left',\n",
    "    'mouth_right',\n",
    "    'left_shoulder',\n",
    "    'right_shoulder',\n",
    "    'left_elbow',\n",
    "    'right_elbow',\n",
    "    'left_wrist',\n",
    "    'right_wrist',\n",
    "    'left_pinky',\n",
    "    'right_pinky',\n",
    "    'left_index',\n",
    "    'right_index',\n",
    "    'left_thumb',\n",
    "    'right_thumb',\n",
    "    'left_hip',\n",
    "    'right_hip',\n",
    "    'left_knee',\n",
    "    'right_knee',\n",
    "    'left_ankle',\n",
    "    'right_ankle',\n",
    "    'left_heel',\n",
    "    'right_heel',\n",
    "    'left_foot_index',\n",
    "    'right_foot_index']\n",
    "\n",
    "joint_to_plot_index = mediapipe_indices.index('nose') #You can choose what point you'd like to look at here by                                                             changing the string in the mediapipe_indices list."
   ],
   "metadata": {
    "collapsed": false
   },
   "id": "55b9e432c98ab003"
  },
  {
   "cell_type": "code",
   "execution_count": null,
   "outputs": [],
   "source": [
    "path_to_recording = Path(path_to_recording)\n",
    "path_to_center_of_mass_npy = path_to_recording/'output_data'/'center_of_mass'/'total_body_center_of_mass_xyz.npy'\n",
    "path_to_freemocap_3d_body_data_npy = path_to_recording/'output_data'/'mediapipe_body_3d_xyz.npy'\n",
    "\n",
    "freemocap_3d_body_data = np.load(path_to_freemocap_3d_body_data_npy)\n",
    "total_body_com_data = np.load(path_to_center_of_mass_npy)\n",
    "\n",
    "freemocap_3d_body_data_to_plot = freemocap_3d_body_data[:,joint_to_plot_index,:]"
   ],
   "metadata": {
    "collapsed": false
   },
   "id": "deb5427474d3d920"
  },
  {
   "cell_type": "code",
   "execution_count": null,
   "outputs": [],
   "source": [
    "\n",
    "fig = make_subplots(rows=3, cols=2, subplot_titles=('total body center of mass trajectory',f'{joint_to_plot_index} trajectory'))\n",
    "\n",
    "fig.add_trace(\n",
    "    go.Scatter(y = total_body_com_data[:,0]),\n",
    "    row=1, col=1\n",
    ")\n",
    "\n",
    "fig.add_trace(\n",
    "    go.Scatter(y = total_body_com_data[:,1]),\n",
    "    row=2, col=1\n",
    ")\n",
    "\n",
    "fig.add_trace(\n",
    "    go.Scatter(y = total_body_com_data[:,2]),\n",
    "    row=3, col=1\n",
    ")\n",
    "\n",
    "fig.add_trace(\n",
    "        go.Scatter(y = freemocap_3d_body_data_to_plot[:,0]),\n",
    "    row=1, col=2\n",
    ")\n",
    "\n",
    "fig.add_trace(\n",
    "        go.Scatter(y = freemocap_3d_body_data_to_plot[:,1]),\n",
    "    row=2, col=2\n",
    ")\n",
    "\n",
    "fig.add_trace(\n",
    "        go.Scatter(y = freemocap_3d_body_data_to_plot[:,2]),\n",
    "    row=3, col=2\n",
    ")\n",
    "\n",
    "#COM plot axes labels \n",
    "fig['layout']['yaxis']['title']='X Axis (mm)'\n",
    "fig['layout']['yaxis3']['title']='Y Axis (mm)'\n",
    "fig['layout']['yaxis5']['title']='Z Axis (mm)'\n",
    "fig['layout']['xaxis5']['title']='Frame #'\n",
    "fig['layout']['xaxis6']['title']='Frame #'\n",
    "\n",
    "\n",
    "\n",
    "\n",
    "fig.update_layout(height=600, width=800,showlegend=False)\n",
    "fig.show()"
   ],
   "metadata": {
    "collapsed": false
   },
   "id": "dcd3caa0780c1472"
  },
  {
   "cell_type": "markdown",
   "source": [
    "## 3D Plotting\n",
    "\n",
    "Finally, we are creating a 3D plot of the skeleton movement, tracking all the joints in the `mediapipe_indices` list over time.  \n",
    "\n",
    "The 'Play' button at the bottom allows you to watch the motion as if it were a video. Before pressing play, you can manually click and drag the plot around to orient the view of the plot. "
   ],
   "metadata": {
    "collapsed": false
   },
   "id": "748172036eafe524"
  },
  {
   "cell_type": "code",
   "execution_count": null,
   "outputs": [],
   "source": [
    "def calculate_axes_means(skeleton_3d_data):\n",
    "    mx_skel = np.nanmean(skeleton_3d_data[:,0:33,0])\n",
    "    my_skel = np.nanmean(skeleton_3d_data[:,0:33,1])\n",
    "    mz_skel = np.nanmean(skeleton_3d_data[:,0:33,2])\n",
    "\n",
    "    return mx_skel, my_skel, mz_skel\n",
    "\n",
    "ax_range = 1500\n",
    "\n",
    "mx_skel, my_skel, mz_skel = calculate_axes_means(freemocap_3d_body_data)\n",
    "\n",
    "# Create a list of frames\n",
    "frames = [go.Frame(data=[go.Scatter3d(\n",
    "    x=freemocap_3d_body_data[i, :, 0],\n",
    "    y=freemocap_3d_body_data[i, :, 1],\n",
    "    z=freemocap_3d_body_data[i, :, 2],\n",
    "    mode='markers',\n",
    "    marker=dict(\n",
    "        size=2,  # Adjust marker size as needed\n",
    "    )\n",
    ")], name=str(i)) for i in range(freemocap_3d_body_data.shape[0])]\n",
    "\n",
    "# Define axis properties\n",
    "axis = dict(\n",
    "    showbackground=True,\n",
    "    backgroundcolor=\"rgb(230, 230,230)\",\n",
    "    gridcolor=\"rgb(255, 255, 255)\",\n",
    "    zerolinecolor=\"rgb(255, 255, 255)\",\n",
    ")\n",
    "\n",
    "# Create a figure\n",
    "fig = go.Figure(\n",
    "    data=[go.Scatter3d(\n",
    "        x=freemocap_3d_body_data[0, :, 0],\n",
    "        y=freemocap_3d_body_data[0, :, 1],\n",
    "        z=freemocap_3d_body_data[0, :, 2],\n",
    "        mode='markers',\n",
    "        marker=dict(\n",
    "            size=2,  # Adjust marker size as needed\n",
    "        )\n",
    "    )],\n",
    "    layout=go.Layout(\n",
    "        scene=dict(\n",
    "            xaxis=dict(axis, range=[mx_skel-ax_range, mx_skel+ax_range]), # Adjust range as needed\n",
    "            yaxis=dict(axis, range=[my_skel-ax_range, my_skel+ax_range]), # Adjust range as needed\n",
    "            zaxis=dict(axis, range=[mz_skel-ax_range, mz_skel+ax_range]),  # Adjust range as needed\n",
    "            aspectmode='cube'\n",
    "        ),\n",
    "        updatemenus=[dict(\n",
    "            type='buttons',\n",
    "            showactive=False,\n",
    "            buttons=[dict(\n",
    "                label='Play',\n",
    "                method='animate',\n",
    "                args=[None, {\"frame\": {\"duration\": 30}}]\n",
    "            )]\n",
    "        )]\n",
    "    ),\n",
    "    frames=frames\n",
    ")\n",
    "\n",
    "fig.show()"
   ],
   "metadata": {
    "collapsed": false
   },
   "id": "363ed68144eaffc8"
  }
 ],
 "metadata": {
  "kernelspec": {
   "display_name": "Python 3",
   "language": "python",
   "name": "python3"
  },
  "language_info": {
   "codemirror_mode": {
    "name": "ipython",
    "version": 2
   },
   "file_extension": ".py",
   "mimetype": "text/x-python",
   "name": "python",
   "nbconvert_exporter": "python",
   "pygments_lexer": "ipython2",
   "version": "2.7.6"
  }
 },
 "nbformat": 4,
 "nbformat_minor": 5
}
